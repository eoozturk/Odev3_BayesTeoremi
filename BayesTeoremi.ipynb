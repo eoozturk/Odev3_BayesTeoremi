{
  "nbformat": 4,
  "nbformat_minor": 0,
  "metadata": {
    "colab": {
      "name": "BayesTeoremi.ipynb",
      "version": "0.3.2",
      "provenance": [],
      "collapsed_sections": [],
      "include_colab_link": true
    },
    "kernelspec": {
      "name": "python3",
      "display_name": "Python 3"
    }
  },
  "cells": [
    {
      "cell_type": "markdown",
      "metadata": {
        "id": "view-in-github",
        "colab_type": "text"
      },
      "source": [
        "<a href=\"https://colab.research.google.com/github/eoozturk/BayesTeoremi/blob/master/BayesTeoremi.ipynb\" target=\"_parent\"><img src=\"https://colab.research.google.com/assets/colab-badge.svg\" alt=\"Open In Colab\"/></a>"
      ]
    },
    {
      "cell_type": "markdown",
      "metadata": {
        "id": "hKu6yFPeT3UG",
        "colab_type": "text"
      },
      "source": [
        "**Soru: Bayes Teoremi**\n",
        "\n",
        "Bir hava üssünde tehlike olduğu zaman alarm sisteminin çalışma olasılığı 0.99, tehlike olmadığında alarm sisteminin çalışmama olasılığı 0.98 ve herhangi bir anda tehlike olma olasılığı da 0.003’tür. \n",
        "\n",
        "Hava üssündeki alarm çalıştığına göre, tehlike durumunun olma olasılığı nedir?\n",
        "\n",
        "**Çözüm:**\n",
        "\n",
        "A: Alarm Sisteminin Çalışması,  A': Alarm Sisteminin ÇalışMAMAsı,  B: Tehlike olması, B': Tehlike olMAMAsı\n",
        "   \n",
        "P(B) = 0.003, P(B') = 0.997, P(A | B) = 0.99, P(A' | B') = 0.98, P(A | B') = 0.02\n",
        "\n",
        "\n",
        "Durum: Tehlike altında alarmın çalışması,   \n",
        "\n",
        "P(A|B)xP(B)= 0.99x0.003= 0.00297\n",
        "\n",
        "Örnek Uzay: Alarmın çalışması,\n",
        "\n",
        "P(A|B)xP(B)+P(A|B')xP(B')=  0.99x0.003+0.02x0.997= 0.02291\n",
        "\n",
        "Olasılık sonucu: Alarm çalıştığında tehlike olma olasılığı,    \n",
        "\n",
        "P(B|A)= P(A|B)xP(B) / P(A|B)xP(B)+P(A|B')xP(B')= 0.12963771278917494\n",
        "\n",
        "**Açıklama:**\n",
        "\n",
        "P(B|A)= P(BnA)/P(A)= P(A|B)xP(B)/P(A)\n",
        "\n",
        "Verilen bilgilere göre tehlike olma olasılığı P(B), tehlike olmama olasılığı P'(B), tehlike altında alarmın çalışma olasılığı P(A|B) ve tehlike olmadığında alarmın çalışma olasılığı P(A|B') hesaplanır.\n",
        "\n",
        "İstenilen durum, tehlike altında alarmın çalışma olasılığı P(A|B)xP(B)ve örnek uzay, alarmın çalışma durumu P(A|B)xP(B)+P(A|B')xP(B') şeklinde hesaplanır.\n",
        "\n",
        "Son olarak bayes teoremi ile olasılık sonucu, P(B|A)= P(A|B)xP(B) / P(A|B)xP(B)+P(A|B')xP(B') formülü ile hesaplanarak sonuç bulunur.\n",
        "\n",
        "\n",
        "\n"
      ]
    },
    {
      "cell_type": "code",
      "metadata": {
        "id": "aQS6R-fzZ4Qp",
        "colab_type": "code",
        "outputId": "0809f665-5d6f-4801-a3ea-67f87e3b2558",
        "colab": {
          "base_uri": "https://localhost:8080/",
          "height": 141
        }
      },
      "source": [
        "# Emre Ozan Öztürk\n",
        "\n",
        "def bayesTeoremi(a,b,c):\n",
        "\n",
        "    pAb1=float(a)       # P(A|B): Tehlike olması durumunda alarmın çalışma olasılığı\n",
        "    \n",
        "    pB1=float(c)        # P(B): Tehlike olma olasılığı\n",
        "\n",
        "    pB2=float(1-pB1)    # P(B'): Tehlike olMAMA olasılığı\n",
        "\n",
        "    pAb2=float(b)       # P(A'|B'): Tehlike olMAMAsı durumunda alarmın çalışMAMA olasılığı\n",
        "\n",
        "    pAb3=float(1-pAb2)  # P(A|B'): Tehlike olMAMAsı durumunda alarmın çalışma olasılığı\n",
        "    \n",
        "    s1=float(pAb1*pB1)  # P(A|B)*P(B): Tehlike altında alarmın çalışması durumu\n",
        "\n",
        "    s2= float((pAb1*pB1)+(pAb3*pB2)) # P(A|B)*P(B)+P(A|B')*P(B'): Alarmın çalışması durumu\n",
        "\n",
        "    return float(s1/s2)\n",
        "\n",
        "\n",
        "print(\"P(B) = 0.003, P(B') = 0.997, P(A | B) = 0.99, P(A' | B') = 0.98, P(A | B') = 0.02 \\n\")\n",
        "print(\"Tehlike altında alarmın çalışması,   P(A|B)*P(B): 0.99*0.003= 0.00297 \\n\")\n",
        "print(\"Alarmın çalışması,        P(A|B)*P(B)+P(A|B')*P(B'): 0.99*0.003+0.02*0.997= 0.02291 \\n\")\n",
        "print(\"Alarm çalıştığında tehlike olma olasılığı,   P(B|A)= P(A|B)*P(B) / P(A|B)*P(B)+P(A|B')*P(B')= \", bayesTeoremi(0.99,0.98,0.003))"
      ],
      "execution_count": 0,
      "outputs": [
        {
          "output_type": "stream",
          "text": [
            "P(B) = 0.003, P(B') = 0.997, P(A | B) = 0.99, P(A' | B') = 0.98, P(A | B') = 0.02 \n",
            "\n",
            "Tehlike altında alarmın çalışması,   P(A|B)*P(B): 0.99*0.003= 0.00297 \n",
            "\n",
            "Alarmın çalışması,        P(A|B)*P(B)+P(A|B')*P(B'): 0.99*0.003+0.02*0.997= 0.02291 \n",
            "\n",
            "Alarm çalıştığında tehlike olma olasılığı,   P(B|A)= P(A|B)*P(B) / P(A|B)*P(B)+P(A|B')*P(B')=  0.12963771278917494\n"
          ],
          "name": "stdout"
        }
      ]
    }
  ]
}